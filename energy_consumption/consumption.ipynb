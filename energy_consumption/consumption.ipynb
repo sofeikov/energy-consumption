{
 "cells": [
  {
   "cell_type": "code",
   "execution_count": null,
   "metadata": {},
   "outputs": [],
   "source": [
    "import pandas as pd\n",
    "import matplotlib.pyplot as plt"
   ]
  },
  {
   "cell_type": "markdown",
   "metadata": {},
   "source": [
    "https://www.kaggle.com/datasets/uciml/electric-power-consumption-data-set?resource=download"
   ]
  },
  {
   "cell_type": "code",
   "execution_count": null,
   "metadata": {},
   "outputs": [],
   "source": [
    "df = (\n",
    "    pd.read_csv(\n",
    "        \"/Users/sofeikov/Downloads/household_power_consumption.txt.zip\",\n",
    "        low_memory=False,\n",
    "        parse_dates={\"datetime\": [\"Date\", \"Time\"]},\n",
    "        na_values=[\"?\"],\n",
    "        delimiter=\";\",\n",
    "    )\n",
    "    .set_index(\"datetime\")\n",
    "    .drop(\n",
    "        columns=[\n",
    "            \"Global_reactive_power\",\n",
    "            \"Voltage\",\n",
    "            \"Global_intensity\",\n",
    "            \"Sub_metering_1\",\n",
    "            \"Sub_metering_2\",\n",
    "            \"Sub_metering_3\",\n",
    "        ]\n",
    "    )\n",
    "    .rename(columns={\"Global_active_power\": \"gap\"})\n",
    ")\n",
    "df[\"timegroup\"] = df.index.strftime(\"%Y-%m-%d-%H\")\n",
    "df = df.groupby(\"timegroup\").agg(\"mean\")\n",
    "df.set_index(pd.to_datetime(df.index, format=\"%Y-%m-%d-%H\"), inplace=True)\n",
    "df.head()\n"
   ]
  },
  {
   "cell_type": "code",
   "execution_count": null,
   "metadata": {},
   "outputs": [],
   "source": [
    "mask = (df.index > '2008-03-01') & (df.index < '2008-03-14')\n",
    "df.loc[mask, \"gap\"].plot(figsize=(16,6))"
   ]
  },
  {
   "cell_type": "markdown",
   "metadata": {},
   "source": [
    "# Featute exploration"
   ]
  },
  {
   "cell_type": "code",
   "execution_count": null,
   "metadata": {},
   "outputs": [],
   "source": [
    "df[\"gap\"].hist(bins=100)"
   ]
  },
  {
   "cell_type": "code",
   "execution_count": null,
   "metadata": {},
   "outputs": [],
   "source": [
    "df[\"hour\"] = df.index.hour\n",
    "df[\"day\"] = df.index.day\n",
    "df[\"month\"] = df.index.month\n",
    "df[\"dow\"] = df.index.day_of_week\n",
    "df[\"quarter\"] = df.index.quarter"
   ]
  },
  {
   "cell_type": "code",
   "execution_count": null,
   "metadata": {},
   "outputs": [],
   "source": [
    "def plot_correlations(df: pd.DataFrame, target: str):\n",
    "    for c in df.columns:\n",
    "        if c == target:\n",
    "            continue\n",
    "        plt.figure()\n",
    "        plt.scatter(df[c], df[target], s=1)\n",
    "        plt.xlabel(c)\n",
    "        plt.ylabel(target)\n",
    "plot_correlations(df, \"gap\")"
   ]
  },
  {
   "cell_type": "markdown",
   "metadata": {},
   "source": [
    "# Train / validation/ test split"
   ]
  },
  {
   "cell_type": "code",
   "execution_count": null,
   "metadata": {},
   "outputs": [],
   "source": [
    "df.index.min(), df.index.max()"
   ]
  },
  {
   "cell_type": "code",
   "execution_count": null,
   "metadata": {},
   "outputs": [],
   "source": [
    "from sklearn.model_selection import train_test_split"
   ]
  },
  {
   "cell_type": "code",
   "execution_count": null,
   "metadata": {},
   "outputs": [],
   "source": [
    "def temporal_split(df: pd.DataFrame, cutoff_date: str):\n",
    "    test_mask = df.index >= cutoff_date\n",
    "    test_df = df.loc[test_mask].copy()\n",
    "    train_valid_set = df.loc[~test_mask].copy()\n",
    "\n",
    "    train_df, valid_df = train_test_split(train_valid_set, train_size=0.85)\n",
    "    return train_df, valid_df, test_df\n",
    "train_df, valid_df, test_df = temporal_split(df, '2010-01-01')"
   ]
  },
  {
   "cell_type": "markdown",
   "metadata": {},
   "source": [
    "# Training"
   ]
  },
  {
   "cell_type": "code",
   "execution_count": null,
   "metadata": {},
   "outputs": [],
   "source": [
    "from lightgbm import LGBMRegressor\n",
    "\n",
    "train_features = [c for c in train_df if c != \"gap\"]\n",
    "\n",
    "regressor = LGBMRegressor(n_estimators=100, importance_type=\"gain\")\n",
    "\n",
    "booster = regressor.fit(\n",
    "    train_df[train_features],\n",
    "    train_df[\"gap\"],\n",
    "    eval_set=(valid_df[train_features], valid_df[\"gap\"]),\n",
    "    verbose=500,\n",
    "    early_stopping_rounds=10\n",
    ")\n",
    "\n"
   ]
  },
  {
   "cell_type": "code",
   "execution_count": null,
   "metadata": {},
   "outputs": [],
   "source": [
    "test_df[\"pred\"] = booster.predict(test_df[train_features])\n",
    "print(((test_df[\"pred\"]-test_df[\"gap\"])**2).mean())\n",
    "(test_df[\"pred\"]-test_df[\"gap\"]).hist(bins=30)"
   ]
  },
  {
   "cell_type": "code",
   "execution_count": null,
   "metadata": {},
   "outputs": [],
   "source": [
    "min_date = '2010-04-01'\n",
    "max_date = '2010-04-07'\n",
    "mask = (test_df.index > min_date) & (test_df.index < max_date)\n",
    "plt.figure(figsize=(12,6))\n",
    "test_df.loc[mask, \"gap\"].plot(label=\"gap\")\n",
    "test_df.loc[mask, \"pred\"].plot(label=\"pred\")\n",
    "plt.legend()"
   ]
  },
  {
   "cell_type": "code",
   "execution_count": null,
   "metadata": {},
   "outputs": [],
   "source": [
    "plt.bar(train_features, booster.feature_importances_)"
   ]
  },
  {
   "cell_type": "markdown",
   "metadata": {},
   "source": [
    "# Adding temporal component to the prediction"
   ]
  },
  {
   "cell_type": "code",
   "execution_count": null,
   "metadata": {},
   "outputs": [],
   "source": [
    "from typing import Union, List\n",
    "\n",
    "\n",
    "def add_lag(df: pd.DataFrame, column: str, lag: Union[List[int], int]):\n",
    "    if isinstance(lag, int):\n",
    "        lag = [lag]\n",
    "    lag_cols = df.filter(axis=1, regex=\"_lag_\")\n",
    "    df.drop(columns=lag_cols, inplace=True)\n",
    "    for l in lag:\n",
    "        slice = df[column][:-l].tolist()\n",
    "        padded = [0] * l + slice\n",
    "        new_col_name = f\"{column}_lag_{l}\"\n",
    "        df[new_col_name] = padded\n",
    "\n",
    "mins_multiplier = 1\n",
    "add_lag(df, \"gap\", [1*mins_multiplier,2*mins_multiplier,3*mins_multiplier])\n",
    "train_df, valid_df, test_df = temporal_split(df, '2010-01-01')\n",
    "df.head()"
   ]
  },
  {
   "cell_type": "code",
   "execution_count": null,
   "metadata": {},
   "outputs": [],
   "source": [
    "train_features = [c for c in train_df if c != \"gap\"]\n",
    "print(train_features)\n",
    "\n",
    "regressor = LGBMRegressor(n_estimators=100, importance_type=\"gain\")\n",
    "\n",
    "booster = regressor.fit(\n",
    "    train_df[train_features],\n",
    "    train_df[\"gap\"],\n",
    "    eval_set=(valid_df[train_features], valid_df[\"gap\"]),\n",
    "    verbose=500,\n",
    "    early_stopping_rounds=10\n",
    ")\n"
   ]
  },
  {
   "cell_type": "code",
   "execution_count": null,
   "metadata": {},
   "outputs": [],
   "source": [
    "plt.figure(figsize=(12,6))\n",
    "plt.bar(train_features, booster.feature_importances_)"
   ]
  },
  {
   "cell_type": "code",
   "execution_count": null,
   "metadata": {},
   "outputs": [],
   "source": [
    "test_df[\"pred\"] = booster.predict(test_df[train_features])\n",
    "print(((test_df[\"pred\"]-test_df[\"gap\"])**2).mean())\n",
    "(test_df[\"pred\"]-test_df[\"gap\"]).hist(bins=30)"
   ]
  },
  {
   "cell_type": "code",
   "execution_count": null,
   "metadata": {},
   "outputs": [],
   "source": [
    "min_date = '2010-04-01'\n",
    "max_date = '2010-04-07'\n",
    "mask = (test_df.index > min_date) & (test_df.index < max_date)\n",
    "plt.figure(figsize=(12,6))\n",
    "test_df.loc[mask, \"gap\"].plot(label=\"gap\")\n",
    "test_df.loc[mask, \"pred\"].plot(label=\"pred\")\n",
    "plt.legend()"
   ]
  },
  {
   "cell_type": "code",
   "execution_count": null,
   "metadata": {},
   "outputs": [],
   "source": []
  }
 ],
 "metadata": {
  "kernelspec": {
   "display_name": "base",
   "language": "python",
   "name": "python3"
  },
  "language_info": {
   "codemirror_mode": {
    "name": "ipython",
    "version": 3
   },
   "file_extension": ".py",
   "mimetype": "text/x-python",
   "name": "python",
   "nbconvert_exporter": "python",
   "pygments_lexer": "ipython3",
   "version": "3.9.12"
  },
  "orig_nbformat": 4,
  "vscode": {
   "interpreter": {
    "hash": "8decfb141b7a810acfda43dd1dc2f8145731de40333688351890c669f222f059"
   }
  }
 },
 "nbformat": 4,
 "nbformat_minor": 2
}
